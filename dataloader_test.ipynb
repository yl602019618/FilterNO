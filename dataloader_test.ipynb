{
 "cells": [
  {
   "cell_type": "code",
   "execution_count": 2,
   "metadata": {},
   "outputs": [],
   "source": [
    "from bisect import bisect\n",
    "import os\n",
    "import torch\n",
    "import numpy as np\n",
    "from torch.utils.data import Dataset, DataLoader\n",
    "import matplotlib.pyplot as plt\n",
    "import torch.nn as nn\n",
    "import numpy as np"
   ]
  },
  {
   "cell_type": "code",
   "execution_count": 3,
   "metadata": {},
   "outputs": [
    {
     "name": "stdout",
     "output_type": "stream",
     "text": [
      "(51, 61, 61)\n"
     ]
    }
   ],
   "source": [
    "data = np.load('/Users/dp/Documents/清华/FilterData/data/sol_0.npy')"
   ]
  },
  {
   "cell_type": "code",
   "execution_count": 6,
   "metadata": {},
   "outputs": [
    {
     "data": {
      "image/png": "[encoded data removed]",
      "text/plain": [
       "<Figure size 640x480 with 2 Axes>"
      ]
     },
     "metadata": {},
     "output_type": "display_data"
    }
   ],
   "source": [
    "plt.figure()\n",
    "plt.imshow(data[-1,:,:])\n",
    "plt.colorbar()\n",
    "plt.clim(-0.5,0.5)\n",
    "plt.show()\n"
   ]
  },
  {
   "cell_type": "code",
   "execution_count": 16,
   "metadata": {},
   "outputs": [],
   "source": [
    "from bisect import bisect\n",
    "import os\n",
    "import torch\n",
    "import numpy as np\n",
    "from torch.utils.data import Dataset, DataLoader\n",
    "import matplotlib.pyplot as plt\n",
    "import torch.nn as nn\n",
    "\n",
    "\n",
    "class GaussianNormalizer(object):\n",
    "    def __init__(self, x, eps=0.00001):\n",
    "        super(GaussianNormalizer, self).__init__()\n",
    "        '''\n",
    "        data: x,y,1\n",
    "        target:x,y,2\n",
    "        '''\n",
    "        self.mean = torch.mean(x,dim = [0,1,2]).cpu().numpy()\n",
    "        self.std = torch.std(x,dim = [0,1,2]).cpu().numpy()\n",
    "        self.eps = eps\n",
    "        print('mean',self.mean)\n",
    "        print('std',self.std)\n",
    "    def encode(self, x):\n",
    "        x = (x - self.mean) / (self.std + self.eps)\n",
    "        return x\n",
    "    def decode(self, x, sample_idx=None):\n",
    "        x = (x * (self.std + self.eps)) + self.mean\n",
    "        return x\n",
    "    def cuda(self,device):\n",
    "        self.mean = self.mean.to(device)\n",
    "        self.std = self.std.to(device)\n",
    "    def cpu(self):\n",
    "        self.mean = self.mean.cpu()\n",
    "        self.std = self.std.cpu()\n",
    "\n",
    "class File_Loader(Dataset):\n",
    "    #data loader file\n",
    "    def __init__(self, data_paths, size =61,step=1):\n",
    "        self.size = size    \n",
    "        print('Start Data')\n",
    "        self.data_memmaps = [np.load(path, mmap_mode='r')[::step,:,:] for path in data_paths]\n",
    "        print('Loading Data Done')\n",
    "        self.start_indices = [0] * len(data_paths) #4600\n",
    "        self.data_count = 0 \n",
    "        for index, memmap in enumerate(self.data_memmaps):\n",
    "            self.start_indices[index] = self.data_count\n",
    "            self.data_count += memmap.shape[0]-1\n",
    "        #wandb.log({'data_count':self.data_count})\n",
    "        #self.__gen_norm__()\n",
    "    # def __gen_norm__(self):\n",
    "    #     num = 100\n",
    "    #     index = np.random.permutation(self.data_count_target)[:num]\n",
    "    #     data_all = np.zeros((num,self.size,self.size))\n",
    "    #     target_all = np.zeros((num,self.size,self.size),dtype = np.complex64)\n",
    "    #     for i in range(num):\n",
    "    #         if self.exp == 'single':\n",
    "    #             memmap_index = bisect(self.start_indices_target, index[i]) - 1 #0-4600*8-1\n",
    "    #             index_in_memmap = index[i] - self.start_indices_target[memmap_index] #0-8\n",
    "    #             data_all[i,:,:] = np.copy(self.data_memmaps[memmap_index][0,:,:])\n",
    "    #             target_all[i,:,:] = np.copy(self.target_memmaps[memmap_index][0,:,:])\n",
    "    #         else:\n",
    "    #             memmap_index = bisect(self.start_indices_target, index[i]) - 1 \n",
    "    #             index_in_memmap = index[i] - self.start_indices_target[memmap_index] \n",
    "    #             index_1 = index[i]//64\n",
    "    #             index_2 = index[i] - index_1*64\n",
    "    #             data_all[i,:,:] = np.copy(self.data_memmaps[index_1][0,:,:])\n",
    "    #             target_all[i,:,:] = np.copy(self.target_memmaps[memmap_index][index_in_memmap])\n",
    "        \n",
    "    #     self.data_norm = GaussianNormalizer(x = torch.tensor(data_all))\n",
    "    #     self.target_norm = GaussianNormalizer(x = torch.tensor(target_all))       \n",
    "    def __len__(self):\n",
    "        return self.data_count #2400   \n",
    "    def __getitem__(self, index):\n",
    "        memmap_index = bisect(self.start_indices, index) - 1 #0-4600*8-1\n",
    "        index_in_memmap = index - self.start_indices[memmap_index] #0-8\n",
    "        #data = self.data_norm.encode(np.copy(self.data_memmaps[memmap_index][0,:,:]))\n",
    "        data = self.data_memmaps[memmap_index][index_in_memmap,:,:]\n",
    "        target = self.data_memmaps[memmap_index][index_in_memmap+1,:,:]\n",
    "        return torch.tensor(data, dtype=torch.float).view(self.size,self.size,1), torch.tensor(target, dtype=torch.float).view(self.size,self.size,1)\n",
    "\n",
    "class GettingLists(object):\n",
    "    def __init__(self,train_num = 1600,\n",
    "                    valid_num = 400 ,\n",
    "                    PATH = 'lbs',\n",
    "                    batchsize= int(2000)):\n",
    "        super(GettingLists, self).__init__()\n",
    "        self.PATH= PATH\n",
    "        self.batchsize = batchsize\n",
    "        self.valid_num = valid_num\n",
    "        self.train_num = train_num\n",
    "        self.data_list = (np.arange(self.train_num+self.valid_num)).tolist()\n",
    "        self.data_list_train = self.data_list[:self.train_num]\n",
    "        self.data_list_test = self.data_list[self.train_num:self.train_num+self.valid_num]\n",
    "    def get_list(self, do):\n",
    "        if do == 'train':\n",
    "            train  = np.array([os.path.join(self.PATH,  \n",
    "                                                        f'sol_{k}.npy') for k in \\\n",
    "                                                        self.data_list_train])\n",
    "            return train\n",
    "        elif do == 'validation':\n",
    "            valid  = np.array([os.path.join(self.PATH,  \n",
    "                                                        f'sol_{k}.npy') for k in \\\n",
    "                                                        self.data_list_test])\n",
    "            return  valid\n",
    "        elif do =='test':\n",
    "            test  = np.array([os.path.join(self.PATH,  \n",
    "                                                        f'sol_{k}.npy') for k in \\\n",
    "                                                        self.data_list_test])\n",
    "            return  test\n",
    "    def __call__(self, do = 'train'):\n",
    "        return self.get_list(do)\n",
    "    def get_dataloader(self,do,config):\n",
    "        workers = config['data']['load_workers']\n",
    "        size = config['data']['size']\n",
    "        batchsize = self.batchsize\n",
    "        step = config['data']['step']\n",
    "        if do == 'train':\n",
    "            list_train = self.__call__('train')\n",
    "            list_valid = self.__call__('validation')\n",
    "            Train_Data_set = File_Loader(list_train, size = size, step = step)\n",
    "            Valid_Data_set = File_Loader(list_valid, size = size, step = step)\n",
    "            train_loader = DataLoader(dataset = Train_Data_set, \n",
    "                                    shuffle = True, \n",
    "                                    batch_size = batchsize,\n",
    "                                    num_workers= workers)\n",
    "            valid_loader = DataLoader(dataset = Valid_Data_set, \n",
    "                                    shuffle = False, \n",
    "                                    batch_size =batchsize,\n",
    "                                    num_workers= workers)\n",
    "            return train_loader, valid_loader\n",
    "        elif do == 'test':\n",
    "            list_test = self.__call__('test')\n",
    "            Test_Data_set = File_Loader(list_test, size = size, step = step)\n",
    "            test_loader = DataLoader(dataset = Test_Data_set, \n",
    "                                    shuffle = False, \n",
    "                                    batch_size = batchsize,\n",
    "                                    num_workers= workers)\n",
    "            return test_loader\n",
    "\n",
    "def datasetFactory(config,do='train'):\n",
    "    c_data = config['data']\n",
    "    gl = GettingLists(train_num = c_data[\"train_num\"],\n",
    "                     valid_num = c_data['valid_num'],\n",
    "                     PATH = c_data[\"PATH\"],\n",
    "                     batchsize = c_data['batch'])\n",
    "    return gl.get_dataloader(do = do,config = config)\n",
    "\n",
    "\n"
   ]
  },
  {
   "cell_type": "code",
   "execution_count": 17,
   "metadata": {},
   "outputs": [
    {
     "name": "stdout",
     "output_type": "stream",
     "text": [
      "Start Data\n",
      "Loading Data Done\n",
      "Start Data\n",
      "Loading Data Done\n"
     ]
    }
   ],
   "source": [
    "import yaml\n",
    "import argparse \n",
    "config_file = '/Users/dp/Documents/清华/Filter/fourier_neural_operator/config/fno2d.yaml'\n",
    "with open(config_file, 'r') as stream:\n",
    "        config = yaml.load(stream, yaml.FullLoader)\n",
    "c_proj = config['Project']\n",
    "train_dataloader, val_dataloader = datasetFactory(config=config, do=c_proj['do'])"
   ]
  },
  {
   "cell_type": "code",
   "execution_count": 18,
   "metadata": {},
   "outputs": [
    {
     "name": "stdout",
     "output_type": "stream",
     "text": [
      "1350\n"
     ]
    },
    {
     "name": "stderr",
     "output_type": "stream",
     "text": [
      "Traceback (most recent call last):\n",
      "  File \"<string>\", line 1, in <module>\n",
      "  File \"/Users/dp/anaconda3/lib/python3.11/multiprocessing/spawn.py\", line 122, in spawn_main\n",
      "    exitcode = _main(fd, parent_sentinel)\n",
      "               ^^^^^^^^^^^^^^^^^^^^^^^^^^\n",
      "  File \"/Users/dp/anaconda3/lib/python3.11/multiprocessing/spawn.py\", line 132, in _main\n",
      "    self = reduction.pickle.load(from_parent)\n",
      "           ^^^^^^^^^^^^^^^^^^^^^^^^^^^^^^^^^^\n",
      "AttributeError: Can't get attribute 'File_Loader' on <module '__main__' (built-in)>\n"
     ]
    },
    {
     "ename": "KeyboardInterrupt",
     "evalue": "",
     "output_type": "error",
     "traceback": [
      "\u001b[0;31m---------------------------------------------------------------------------\u001b[0m",
      "\u001b[0;31mKeyboardInterrupt\u001b[0m                         Traceback (most recent call last)",
      "Cell \u001b[0;32mIn[18], line 3\u001b[0m\n\u001b[1;32m      1\u001b[0m num \u001b[38;5;241m=\u001b[39m train_dataloader\u001b[38;5;241m.\u001b[39m\u001b[38;5;21m__len__\u001b[39m()\n\u001b[1;32m      2\u001b[0m \u001b[38;5;28mprint\u001b[39m(num)\n\u001b[0;32m----> 3\u001b[0m \u001b[38;5;28;01mfor\u001b[39;00m batch_idx, batch \u001b[38;5;129;01min\u001b[39;00m \u001b[38;5;28menumerate\u001b[39m(train_dataloader):\n\u001b[1;32m      4\u001b[0m     x,y \u001b[38;5;241m=\u001b[39m batch\n\u001b[1;32m      5\u001b[0m     batchsize \u001b[38;5;241m=\u001b[39m x\u001b[38;5;241m.\u001b[39mshape[\u001b[38;5;241m0\u001b[39m]\n",
      "File \u001b[0;32m~/anaconda3/lib/python3.11/site-packages/torch/utils/data/dataloader.py:439\u001b[0m, in \u001b[0;36mDataLoader.__iter__\u001b[0;34m(self)\u001b[0m\n\u001b[1;32m    437\u001b[0m     \u001b[38;5;28;01mreturn\u001b[39;00m \u001b[38;5;28mself\u001b[39m\u001b[38;5;241m.\u001b[39m_iterator\n\u001b[1;32m    438\u001b[0m \u001b[38;5;28;01melse\u001b[39;00m:\n\u001b[0;32m--> 439\u001b[0m     \u001b[38;5;28;01mreturn\u001b[39;00m \u001b[38;5;28mself\u001b[39m\u001b[38;5;241m.\u001b[39m_get_iterator()\n",
      "File \u001b[0;32m~/anaconda3/lib/python3.11/site-packages/torch/utils/data/dataloader.py:387\u001b[0m, in \u001b[0;36mDataLoader._get_iterator\u001b[0;34m(self)\u001b[0m\n\u001b[1;32m    385\u001b[0m \u001b[38;5;28;01melse\u001b[39;00m:\n\u001b[1;32m    386\u001b[0m     \u001b[38;5;28mself\u001b[39m\u001b[38;5;241m.\u001b[39mcheck_worker_number_rationality()\n\u001b[0;32m--> 387\u001b[0m     \u001b[38;5;28;01mreturn\u001b[39;00m _MultiProcessingDataLoaderIter(\u001b[38;5;28mself\u001b[39m)\n",
      "File \u001b[0;32m~/anaconda3/lib/python3.11/site-packages/torch/utils/data/dataloader.py:1040\u001b[0m, in \u001b[0;36m_MultiProcessingDataLoaderIter.__init__\u001b[0;34m(self, loader)\u001b[0m\n\u001b[1;32m   1033\u001b[0m w\u001b[38;5;241m.\u001b[39mdaemon \u001b[38;5;241m=\u001b[39m \u001b[38;5;28;01mTrue\u001b[39;00m\n\u001b[1;32m   1034\u001b[0m \u001b[38;5;66;03m# NB: Process.start() actually take some time as it needs to\u001b[39;00m\n\u001b[1;32m   1035\u001b[0m \u001b[38;5;66;03m#     start a process and pass the arguments over via a pipe.\u001b[39;00m\n\u001b[1;32m   1036\u001b[0m \u001b[38;5;66;03m#     Therefore, we only add a worker to self._workers list after\u001b[39;00m\n\u001b[1;32m   1037\u001b[0m \u001b[38;5;66;03m#     it started, so that we do not call .join() if program dies\u001b[39;00m\n\u001b[1;32m   1038\u001b[0m \u001b[38;5;66;03m#     before it starts, and __del__ tries to join but will get:\u001b[39;00m\n\u001b[1;32m   1039\u001b[0m \u001b[38;5;66;03m#     AssertionError: can only join a started process.\u001b[39;00m\n\u001b[0;32m-> 1040\u001b[0m w\u001b[38;5;241m.\u001b[39mstart()\n\u001b[1;32m   1041\u001b[0m \u001b[38;5;28mself\u001b[39m\u001b[38;5;241m.\u001b[39m_index_queues\u001b[38;5;241m.\u001b[39mappend(index_queue)\n\u001b[1;32m   1042\u001b[0m \u001b[38;5;28mself\u001b[39m\u001b[38;5;241m.\u001b[39m_workers\u001b[38;5;241m.\u001b[39mappend(w)\n",
      "File \u001b[0;32m~/anaconda3/lib/python3.11/multiprocessing/process.py:121\u001b[0m, in \u001b[0;36mBaseProcess.start\u001b[0;34m(self)\u001b[0m\n\u001b[1;32m    118\u001b[0m \u001b[38;5;28;01massert\u001b[39;00m \u001b[38;5;129;01mnot\u001b[39;00m _current_process\u001b[38;5;241m.\u001b[39m_config\u001b[38;5;241m.\u001b[39mget(\u001b[38;5;124m'\u001b[39m\u001b[38;5;124mdaemon\u001b[39m\u001b[38;5;124m'\u001b[39m), \\\n\u001b[1;32m    119\u001b[0m        \u001b[38;5;124m'\u001b[39m\u001b[38;5;124mdaemonic processes are not allowed to have children\u001b[39m\u001b[38;5;124m'\u001b[39m\n\u001b[1;32m    120\u001b[0m _cleanup()\n\u001b[0;32m--> 121\u001b[0m \u001b[38;5;28mself\u001b[39m\u001b[38;5;241m.\u001b[39m_popen \u001b[38;5;241m=\u001b[39m \u001b[38;5;28mself\u001b[39m\u001b[38;5;241m.\u001b[39m_Popen(\u001b[38;5;28mself\u001b[39m)\n\u001b[1;32m    122\u001b[0m \u001b[38;5;28mself\u001b[39m\u001b[38;5;241m.\u001b[39m_sentinel \u001b[38;5;241m=\u001b[39m \u001b[38;5;28mself\u001b[39m\u001b[38;5;241m.\u001b[39m_popen\u001b[38;5;241m.\u001b[39msentinel\n\u001b[1;32m    123\u001b[0m \u001b[38;5;66;03m# Avoid a refcycle if the target function holds an indirect\u001b[39;00m\n\u001b[1;32m    124\u001b[0m \u001b[38;5;66;03m# reference to the process object (see bpo-30775)\u001b[39;00m\n",
      "File \u001b[0;32m~/anaconda3/lib/python3.11/multiprocessing/context.py:224\u001b[0m, in \u001b[0;36mProcess._Popen\u001b[0;34m(process_obj)\u001b[0m\n\u001b[1;32m    222\u001b[0m \u001b[38;5;129m@staticmethod\u001b[39m\n\u001b[1;32m    223\u001b[0m \u001b[38;5;28;01mdef\u001b[39;00m \u001b[38;5;21m_Popen\u001b[39m(process_obj):\n\u001b[0;32m--> 224\u001b[0m     \u001b[38;5;28;01mreturn\u001b[39;00m _default_context\u001b[38;5;241m.\u001b[39mget_context()\u001b[38;5;241m.\u001b[39mProcess\u001b[38;5;241m.\u001b[39m_Popen(process_obj)\n",
      "File \u001b[0;32m~/anaconda3/lib/python3.11/multiprocessing/context.py:288\u001b[0m, in \u001b[0;36mSpawnProcess._Popen\u001b[0;34m(process_obj)\u001b[0m\n\u001b[1;32m    285\u001b[0m \u001b[38;5;129m@staticmethod\u001b[39m\n\u001b[1;32m    286\u001b[0m \u001b[38;5;28;01mdef\u001b[39;00m \u001b[38;5;21m_Popen\u001b[39m(process_obj):\n\u001b[1;32m    287\u001b[0m     \u001b[38;5;28;01mfrom\u001b[39;00m \u001b[38;5;21;01m.\u001b[39;00m\u001b[38;5;21;01mpopen_spawn_posix\u001b[39;00m \u001b[38;5;28;01mimport\u001b[39;00m Popen\n\u001b[0;32m--> 288\u001b[0m     \u001b[38;5;28;01mreturn\u001b[39;00m Popen(process_obj)\n",
      "File \u001b[0;32m~/anaconda3/lib/python3.11/multiprocessing/popen_spawn_posix.py:32\u001b[0m, in \u001b[0;36mPopen.__init__\u001b[0;34m(self, process_obj)\u001b[0m\n\u001b[1;32m     30\u001b[0m \u001b[38;5;28;01mdef\u001b[39;00m \u001b[38;5;21m__init__\u001b[39m(\u001b[38;5;28mself\u001b[39m, process_obj):\n\u001b[1;32m     31\u001b[0m     \u001b[38;5;28mself\u001b[39m\u001b[38;5;241m.\u001b[39m_fds \u001b[38;5;241m=\u001b[39m []\n\u001b[0;32m---> 32\u001b[0m     \u001b[38;5;28msuper\u001b[39m()\u001b[38;5;241m.\u001b[39m\u001b[38;5;21m__init__\u001b[39m(process_obj)\n",
      "File \u001b[0;32m~/anaconda3/lib/python3.11/multiprocessing/popen_fork.py:19\u001b[0m, in \u001b[0;36mPopen.__init__\u001b[0;34m(self, process_obj)\u001b[0m\n\u001b[1;32m     17\u001b[0m \u001b[38;5;28mself\u001b[39m\u001b[38;5;241m.\u001b[39mreturncode \u001b[38;5;241m=\u001b[39m \u001b[38;5;28;01mNone\u001b[39;00m\n\u001b[1;32m     18\u001b[0m \u001b[38;5;28mself\u001b[39m\u001b[38;5;241m.\u001b[39mfinalizer \u001b[38;5;241m=\u001b[39m \u001b[38;5;28;01mNone\u001b[39;00m\n\u001b[0;32m---> 19\u001b[0m \u001b[38;5;28mself\u001b[39m\u001b[38;5;241m.\u001b[39m_launch(process_obj)\n",
      "File \u001b[0;32m~/anaconda3/lib/python3.11/multiprocessing/popen_spawn_posix.py:62\u001b[0m, in \u001b[0;36mPopen._launch\u001b[0;34m(self, process_obj)\u001b[0m\n\u001b[1;32m     60\u001b[0m     \u001b[38;5;28mself\u001b[39m\u001b[38;5;241m.\u001b[39msentinel \u001b[38;5;241m=\u001b[39m parent_r\n\u001b[1;32m     61\u001b[0m     \u001b[38;5;28;01mwith\u001b[39;00m \u001b[38;5;28mopen\u001b[39m(parent_w, \u001b[38;5;124m'\u001b[39m\u001b[38;5;124mwb\u001b[39m\u001b[38;5;124m'\u001b[39m, closefd\u001b[38;5;241m=\u001b[39m\u001b[38;5;28;01mFalse\u001b[39;00m) \u001b[38;5;28;01mas\u001b[39;00m f:\n\u001b[0;32m---> 62\u001b[0m         f\u001b[38;5;241m.\u001b[39mwrite(fp\u001b[38;5;241m.\u001b[39mgetbuffer())\n\u001b[1;32m     63\u001b[0m \u001b[38;5;28;01mfinally\u001b[39;00m:\n\u001b[1;32m     64\u001b[0m     fds_to_close \u001b[38;5;241m=\u001b[39m []\n",
      "\u001b[0;31mKeyboardInterrupt\u001b[0m: "
     ]
    }
   ],
   "source": [
    "num = train_dataloader.__len__()\n",
    "print(num)\n",
    "for batch_idx, batch in enumerate(train_dataloader):\n",
    "    x,y = batch\n",
    "    batchsize = x.shape[0]\n",
    "    break\n",
    "print(x.shape,y.shape)\n",
    "x1 = x[0,:]\n",
    "y1 = y[0,:]\n",
    "x2 = x[1,:]\n",
    "y2 = y[1,:]\n",
    "\n"
   ]
  },
  {
   "cell_type": "code",
   "execution_count": null,
   "metadata": {},
   "outputs": [],
   "source": [
    "fig, ax = plt.subplots(1, 3, figsize=(12, 4))\n",
    "ax = ax.flatten()\n",
    "ax0 = ax[0].imshow(x1[...,0], cmap=\"inferno\")\n",
    "ax[0].set_title(\"a(x)\")\n",
    "ax[1].imshow(y1[...,0], cmap=\"RdBu_r\")\n",
    "ax[1].set_title(\"GT u(x)\")\n",
    "ax[2].imshow(pred1.cpu(), cmap=\"RdBu_r\")\n",
    "ax[2].set_title(\"Pred u(x)\")\n",
    "plt.show()"
   ]
  }
 ],
 "metadata": {
  "kernelspec": {
   "display_name": "main",
   "language": "python",
   "name": "python3"
  },
  "language_info": {
   "codemirror_mode": {
    "name": "ipython",
    "version": 3
   },
   "file_extension": ".py",
   "mimetype": "text/x-python",
   "name": "python",
   "nbconvert_exporter": "python",
   "pygments_lexer": "ipython3",
   "version": "3.11.5"
  }
 },
 "nbformat": 4,
 "nbformat_minor": 2
}
